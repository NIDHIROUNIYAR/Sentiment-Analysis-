{
  "nbformat": 4,
  "nbformat_minor": 0,
  "metadata": {
    "colab": {
      "provenance": []
    },
    "kernelspec": {
      "name": "python3",
      "display_name": "Python 3"
    },
    "language_info": {
      "name": "python"
    }
  },
  "cells": [
    {
      "cell_type": "code",
      "source": [
        "import os\n",
        "#from hf_token_key import grok_key\n",
        "from langchain.chains import LLMChain\n",
        "from langchain.prompts import PromptTemplate\n",
        "from langchain_groq import ChatGroq  # Requires langchain-groq package"
      ],
      "metadata": {
        "id": "Si_W3Aafp0QX"
      },
      "execution_count": 3,
      "outputs": []
    },
    {
      "cell_type": "code",
      "execution_count": 4,
      "metadata": {
        "id": "5680oTarkGTd"
      },
      "outputs": [],
      "source": [
        " grok_key = \"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\""
      ]
    },
    {
      "cell_type": "code",
      "source": [
        "import os\n",
        "#from hf_token_key import grok_key\n",
        "from langchain.chains import LLMChain\n",
        "from langchain.prompts import PromptTemplate\n",
        "from langchain_groq import ChatGroq  # Requires langchain-groq package\n",
        "grok_key = \"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\"\n",
        "\n",
        "\n",
        "from tqdm import tqdm\n",
        "def Translator_nepali_to_english(df):\n",
        "    # Initialize Groq LLM\n",
        "    llm = ChatGroq(\n",
        "        temperature=0.6,\n",
        "        model_name=\"llama-3.3-70b-versatile\",\n",
        "        api_key=grok_key\n",
        "    )\n",
        "\n",
        "    # Create prompt template\n",
        "    prompt_template_name = PromptTemplate(\n",
        "        input_variables=['text'],\n",
        "        template='Translate this nepali financial sentence  {text} into English. JUst return me the translated text.No presemble'\n",
        "    )\n",
        "\n",
        "    # Create chain\n",
        "    chain = LLMChain(llm=llm, prompt=prompt_template_name)\n",
        "\n",
        "    # Run the chain\n",
        "    translated = []\n",
        "    for i in tqdm(range(len(df)),desc='Translaing'):\n",
        "      sentence = chain.invoke(df['Title'][i])\n",
        "      translated.append(sentence['text'])\n",
        "\n",
        "    df['translated_title'] = translated\n",
        "    df.to_csv('./merolagani_stock_news_translated', index=False)\n",
        "    return \"Data translated and saved as ./merolagani_stock_news (3)_1\""
      ],
      "metadata": {
        "id": "KwfhsgNIqSD-"
      },
      "execution_count": 33,
      "outputs": []
    },
    {
      "cell_type": "code",
      "source": [
        "import pandas as pd"
      ],
      "metadata": {
        "id": "p055sAACubel"
      },
      "execution_count": 23,
      "outputs": []
    },
    {
      "cell_type": "code",
      "source": [
        "df = pd.read_csv(\"/content/merolagani_stock_news (3)_1.csv\")"
      ],
      "metadata": {
        "id": "8SLYlsSyupf7"
      },
      "execution_count": 25,
      "outputs": []
    },
    {
      "cell_type": "code",
      "source": [
        "df = df.drop_duplicates().dropna()"
      ],
      "metadata": {
        "id": "IoxJi3PYvBka"
      },
      "execution_count": 34,
      "outputs": []
    },
    {
      "cell_type": "code",
      "source": [
        "result = Translator_nepali_to_english(df)"
      ],
      "metadata": {
        "colab": {
          "base_uri": "https://localhost:8080/"
        },
        "id": "jBl2zwkhvE84",
        "outputId": "2c02ff7b-7d0f-4f74-da99-14c512535d94"
      },
      "execution_count": 35,
      "outputs": [
        {
          "output_type": "stream",
          "name": "stderr",
          "text": [
            "Translaing: 100%|██████████| 160/160 [05:32<00:00,  2.08s/it]\n"
          ]
        }
      ]
    },
    {
      "cell_type": "code",
      "source": [
        "print(df.columns)"
      ],
      "metadata": {
        "colab": {
          "base_uri": "https://localhost:8080/"
        },
        "id": "gtYz7qUBw3uW",
        "outputId": "e8ef2941-2aff-455d-95e7-083d426f0cd6"
      },
      "execution_count": 29,
      "outputs": [
        {
          "output_type": "stream",
          "name": "stdout",
          "text": [
            "Index(['Title', 'Date'], dtype='object')\n"
          ]
        }
      ]
    },
    {
      "cell_type": "code",
      "source": [],
      "metadata": {
        "id": "RBwb4a4nxlOT"
      },
      "execution_count": null,
      "outputs": []
    }
  ]
}